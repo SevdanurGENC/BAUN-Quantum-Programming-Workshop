{
  "nbformat": 4,
  "nbformat_minor": 0,
  "metadata": {
    "colab": {
      "provenance": []
    },
    "kernelspec": {
      "name": "python3",
      "display_name": "Python 3"
    },
    "language_info": {
      "name": "python"
    }
  },
  "cells": [
    {
      "cell_type": "markdown",
      "source": [
        "**Basit seviye Cirq ile devre tasarımı**"
      ],
      "metadata": {
        "id": "M2vbh2ikAWBt"
      }
    },
    {
      "cell_type": "code",
      "execution_count": 1,
      "metadata": {
        "colab": {
          "base_uri": "https://localhost:8080/"
        },
        "id": "aAhzuPYVSvLp",
        "outputId": "a6050c93-c22a-4c17-bbd5-de3d1751d41a"
      },
      "outputs": [
        {
          "output_type": "stream",
          "name": "stdout",
          "text": [
            "\u001b[?25l   \u001b[90m━━━━━━━━━━━━━━━━━━━━━━━━━━━━━━━━━━━━━━━━\u001b[0m \u001b[32m0.0/2.0 MB\u001b[0m \u001b[31m?\u001b[0m eta \u001b[36m-:--:--\u001b[0m\r\u001b[2K   \u001b[91m━━━━━━━━━━━━━━━━━━━━━━━━━━━━━━━━━━━━━━━\u001b[0m\u001b[91m╸\u001b[0m \u001b[32m2.0/2.0 MB\u001b[0m \u001b[31m68.5 MB/s\u001b[0m eta \u001b[36m0:00:01\u001b[0m\r\u001b[2K   \u001b[90m━━━━━━━━━━━━━━━━━━━━━━━━━━━━━━━━━━━━━━━━\u001b[0m \u001b[32m2.0/2.0 MB\u001b[0m \u001b[31m43.0 MB/s\u001b[0m eta \u001b[36m0:00:00\u001b[0m\n",
            "\u001b[?25h\u001b[?25l   \u001b[90m━━━━━━━━━━━━━━━━━━━━━━━━━━━━━━━━━━━━━━━━\u001b[0m \u001b[32m0.0/597.5 kB\u001b[0m \u001b[31m?\u001b[0m eta \u001b[36m-:--:--\u001b[0m\r\u001b[2K   \u001b[90m━━━━━━━━━━━━━━━━━━━━━━━━━━━━━━━━━━━━━━━━\u001b[0m \u001b[32m597.5/597.5 kB\u001b[0m \u001b[31m37.9 MB/s\u001b[0m eta \u001b[36m0:00:00\u001b[0m\n",
            "\u001b[?25h\u001b[?25l   \u001b[90m━━━━━━━━━━━━━━━━━━━━━━━━━━━━━━━━━━━━━━━━\u001b[0m \u001b[32m0.0/72.0 kB\u001b[0m \u001b[31m?\u001b[0m eta \u001b[36m-:--:--\u001b[0m\r\u001b[2K   \u001b[90m━━━━━━━━━━━━━━━━━━━━━━━━━━━━━━━━━━━━━━━━\u001b[0m \u001b[32m72.0/72.0 kB\u001b[0m \u001b[31m5.5 MB/s\u001b[0m eta \u001b[36m0:00:00\u001b[0m\n",
            "\u001b[2K   \u001b[90m━━━━━━━━━━━━━━━━━━━━━━━━━━━━━━━━━━━━━━━━\u001b[0m \u001b[32m425.1/425.1 kB\u001b[0m \u001b[31m33.6 MB/s\u001b[0m eta \u001b[36m0:00:00\u001b[0m\n",
            "\u001b[2K   \u001b[90m━━━━━━━━━━━━━━━━━━━━━━━━━━━━━━━━━━━━━━━━\u001b[0m \u001b[32m2.8/2.8 MB\u001b[0m \u001b[31m101.6 MB/s\u001b[0m eta \u001b[36m0:00:00\u001b[0m\n",
            "\u001b[?25h"
          ]
        }
      ],
      "source": [
        "# Google Colab ortamında çalışıyorsanız\n",
        "!pip install cirq --quiet\n",
        "!pip install scikit-learn --quiet\n"
      ]
    },
    {
      "cell_type": "code",
      "source": [
        "import numpy as np\n",
        "import cirq\n",
        "from sklearn.datasets import load_breast_cancer\n",
        "from sklearn.model_selection import train_test_split\n",
        "from sklearn.preprocessing import StandardScaler\n",
        "from scipy.optimize import minimize\n"
      ],
      "metadata": {
        "id": "7P7iJ0S5S6uV"
      },
      "execution_count": 2,
      "outputs": []
    },
    {
      "cell_type": "code",
      "source": [
        "# Veri kümesini yükle\n",
        "data = load_breast_cancer()\n",
        "X = data.data\n",
        "y = data.target\n",
        "\n",
        "# Yalnızca ilk 4 özelliği kullanacağız (kuantum devresinde çok fazla kübit zor olur)\n",
        "X = X[:, :4]\n",
        "\n",
        "# Veriyi ölçeklendir\n",
        "scaler = StandardScaler()\n",
        "X_scaled = scaler.fit_transform(X)\n",
        "\n",
        "# Eğitim ve test bölmesi\n",
        "X_train, X_test, y_train, y_test = train_test_split(X_scaled, y, test_size=0.2, random_state=42)\n",
        "\n",
        "print(f\"X_train shape: {X_train.shape}, y_train shape: {y_train.shape}\")\n"
      ],
      "metadata": {
        "colab": {
          "base_uri": "https://localhost:8080/"
        },
        "id": "c7f72upwS6wc",
        "outputId": "31459df3-6bc3-48cd-bad2-b956a61db61b"
      },
      "execution_count": 3,
      "outputs": [
        {
          "output_type": "stream",
          "name": "stdout",
          "text": [
            "X_train shape: (455, 4), y_train shape: (455,)\n"
          ]
        }
      ]
    },
    {
      "cell_type": "code",
      "source": [
        "#Kuantum devresi tanımı\n",
        "#Özellikleri kuantuma gömme\n",
        "\n",
        "def feature_map(qubits, x):\n",
        "    for i, qubit in enumerate(qubits):\n",
        "        cirq.H(qubit)  # Süperpozisyon\n",
        "        cirq.rx(x[i])(qubit)  # Özellikleri RX rotasyonu ile kodla\n"
      ],
      "metadata": {
        "id": "L9nL9hrqS6yk"
      },
      "execution_count": 4,
      "outputs": []
    },
    {
      "cell_type": "code",
      "source": [
        "#Parametrik ansatz\n",
        "def ansatz(qubits, params):\n",
        "    idx = 0\n",
        "    for qubit in qubits:\n",
        "        cirq.ry(params[idx])(qubit)\n",
        "        idx += 1\n",
        "    for i in range(len(qubits) - 1):\n",
        "        cirq.CNOT(qubits[i], qubits[i+1])\n"
      ],
      "metadata": {
        "id": "YOh1ELd0THnM"
      },
      "execution_count": 5,
      "outputs": []
    },
    {
      "cell_type": "code",
      "source": [
        "#Devreyi çalıştırmak ve ölçüm yapmak\n",
        "def create_circuit(x, params):\n",
        "    qubits = cirq.GridQubit.rect(1, len(x))\n",
        "    circuit = cirq.Circuit()\n",
        "    feature_map(qubits, x)\n",
        "    ansatz(qubits, params)\n",
        "    circuit.append(cirq.measure(*qubits, key='m'))\n",
        "    return circuit, qubits\n"
      ],
      "metadata": {
        "id": "Z06mGD1tTHpV"
      },
      "execution_count": 6,
      "outputs": []
    },
    {
      "cell_type": "code",
      "source": [
        "#Kayıp fonksiyonu\n",
        "#Klasik optimizasyon için bir kayıp fonksiyonu tanımlayacağız (ör. çapraz entropi yerine MSE gibi).\n",
        "simulator = cirq.Simulator()\n",
        "\n",
        "def predict(x, params):\n",
        "    circuit, qubits = create_circuit(x, params)\n",
        "    result = simulator.run(circuit, repetitions=100)\n",
        "    measurements = result.measurements['m']\n",
        "    # Örneğin ilk kübitin ölçümünü ortalama olarak al\n",
        "    mean = np.mean(measurements[:, 0])\n",
        "    return mean\n",
        "\n",
        "def cost(params, X, y):\n",
        "    preds = []\n",
        "    for i in range(len(X)):\n",
        "        pred = predict(X[i], params)\n",
        "        preds.append(pred)\n",
        "    preds = np.array(preds)\n",
        "    loss = np.mean((preds - y)**2)\n",
        "    return loss\n"
      ],
      "metadata": {
        "id": "M2pW7oJOTHrz"
      },
      "execution_count": 7,
      "outputs": []
    },
    {
      "cell_type": "code",
      "source": [
        "# Eğitimi başlat\n",
        "# Başlangıç parametreleri\n",
        "init_params = np.random.uniform(0, 2*np.pi, size=4)\n",
        "\n",
        "result = minimize(cost, init_params, args=(X_train, y_train), method='COBYLA', options={'maxiter': 50})\n",
        "\n",
        "print(\"Optimize edilmiş parametreler:\", result.x)\n"
      ],
      "metadata": {
        "colab": {
          "base_uri": "https://localhost:8080/"
        },
        "id": "rZz6xaETS601",
        "outputId": "e68d277e-2919-430f-cf87-f2d9b472ba2e"
      },
      "execution_count": 8,
      "outputs": [
        {
          "output_type": "stream",
          "name": "stdout",
          "text": [
            "Optimize edilmiş parametreler: [6.06750947 4.40707186 3.13341579 0.5639194 ]\n"
          ]
        }
      ]
    },
    {
      "cell_type": "code",
      "source": [
        "#Test et\n",
        "def evaluate(X, y, params):\n",
        "    preds = []\n",
        "    for i in range(len(X)):\n",
        "        pred = predict(X[i], params)\n",
        "        preds.append(int(pred > 0.5))\n",
        "    accuracy = np.mean(np.array(preds) == y)\n",
        "    return accuracy\n",
        "\n",
        "acc_train = evaluate(X_train, y_train, result.x)\n",
        "acc_test = evaluate(X_test, y_test, result.x)\n",
        "\n",
        "print(f\"Eğitim doğruluğu: {acc_train:.2f}\")\n",
        "print(f\"Test doğruluğu: {acc_test:.2f}\")\n"
      ],
      "metadata": {
        "colab": {
          "base_uri": "https://localhost:8080/"
        },
        "id": "yff29aqcTSst",
        "outputId": "72499e00-529b-4c29-d681-3564dd8e4334"
      },
      "execution_count": 10,
      "outputs": [
        {
          "output_type": "stream",
          "name": "stdout",
          "text": [
            "Eğitim doğruluğu: 0.37\n",
            "Test doğruluğu: 0.38\n"
          ]
        }
      ]
    },
    {
      "cell_type": "markdown",
      "source": [
        "Neden böyle düşük çıktı?\n",
        "\n",
        "✅ Özellik sayısı çok az.\n",
        "\n",
        "Breast Cancer veri seti aslında 30 özellik içeriyor.\n",
        "\n",
        "Biz sadece 4 özellik kullandık ve en iyi olanları değil, ilk 4 taneyi seçtik. Özellik mühendisliği yapmadık.\n",
        "\n",
        "✅ Ansatz çok basit.\n",
        "\n",
        "Sadece bir katman parametrik Ry ve birkaç CNOT ile derinliği çok sığ bir devre kurduk.\n",
        "\n",
        "QNN’in model kapasitesi çok düşük.\n",
        "\n",
        "✅ Ölçüm ve hedef arasındaki ilişki zayıf.\n",
        "\n",
        "Sadece bir kübitin ortalamasını ölçüp onu 0/1 ile karşılaştırıyoruz. Bu, “label”larla iyi örtüşmeyebilir.\n",
        "\n",
        "Ölçüm sonuçları 0–1 arasında ortalama bir değer veriyor ama biz bunu lineer olarak 0/1 sınıfıyla kıyaslıyoruz.\n",
        "\n",
        "✅ Optimizasyon yöntemi zayıf.\n",
        "\n",
        "COBYLA kullanıldı, daha iyi optimizasyon yöntemleri (Adam, SPSA) denenebilir.\n",
        "\n",
        "Ayrıca tekrar sayısı (100) düşük ve gürültülü."
      ],
      "metadata": {
        "id": "BvCyYjdZEguo"
      }
    },
    {
      "cell_type": "markdown",
      "source": [
        "**Cirq ile daha iyi bir versiyon**\n",
        "\n",
        "Cirq ile Geliştirilmiş QNN Uygulaması"
      ],
      "metadata": {
        "id": "6ebWD7V5UDBd"
      }
    },
    {
      "cell_type": "code",
      "source": [
        "# Google Colab için:\n",
        "!pip install cirq --quiet\n",
        "!pip install scikit-learn --quiet\n"
      ],
      "metadata": {
        "id": "A4HYOIoLUEXs"
      },
      "execution_count": 11,
      "outputs": []
    },
    {
      "cell_type": "code",
      "source": [
        "import numpy as np\n",
        "import cirq\n",
        "from sklearn.datasets import load_breast_cancer\n",
        "from sklearn.model_selection import train_test_split\n",
        "from sklearn.preprocessing import StandardScaler\n",
        "from sklearn.feature_selection import SelectKBest, f_classif\n",
        "from scipy.optimize import minimize\n"
      ],
      "metadata": {
        "id": "bPTb395AUEfL"
      },
      "execution_count": 12,
      "outputs": []
    },
    {
      "cell_type": "code",
      "source": [
        "# Veri kümesini yükle\n",
        "data = load_breast_cancer()\n",
        "X = data.data\n",
        "y = data.target\n",
        "\n",
        "# En iyi 4 özelliği seç\n",
        "selector = SelectKBest(f_classif, k=4)\n",
        "X_new = selector.fit_transform(X, y)\n",
        "\n",
        "# Veriyi ölçekle\n",
        "scaler = StandardScaler()\n",
        "X_scaled = scaler.fit_transform(X_new)\n",
        "\n",
        "# Eğitim ve test seti\n",
        "X_train, X_test, y_train, y_test = train_test_split(X_scaled, y, test_size=0.2, random_state=42)\n",
        "\n",
        "print(f\"X_train shape: {X_train.shape}, y_train shape: {y_train.shape}\")\n"
      ],
      "metadata": {
        "colab": {
          "base_uri": "https://localhost:8080/"
        },
        "id": "hAK_MQw8UEhj",
        "outputId": "d04133d3-988d-4e15-9629-7247f9123513"
      },
      "execution_count": 13,
      "outputs": [
        {
          "output_type": "stream",
          "name": "stdout",
          "text": [
            "X_train shape: (455, 4), y_train shape: (455,)\n"
          ]
        }
      ]
    },
    {
      "cell_type": "code",
      "source": [
        "def feature_map(qubits, x):\n",
        "    for i, qubit in enumerate(qubits):\n",
        "        cirq.H(qubit)\n",
        "        cirq.rx(x[i])(qubit)\n",
        "        cirq.rz(x[i])(qubit)\n"
      ],
      "metadata": {
        "id": "bIVPrAUUUEjr"
      },
      "execution_count": 14,
      "outputs": []
    },
    {
      "cell_type": "code",
      "source": [
        "def ansatz(qubits, params, layers=2):\n",
        "    idx = 0\n",
        "    for l in range(layers):\n",
        "        for qubit in qubits:\n",
        "            cirq.ry(params[idx])(qubit)\n",
        "            idx += 1\n",
        "        for i in range(len(qubits) - 1):\n",
        "            cirq.CNOT(qubits[i], qubits[i+1])\n"
      ],
      "metadata": {
        "id": "stVHOS0OUEmc"
      },
      "execution_count": 15,
      "outputs": []
    },
    {
      "cell_type": "code",
      "source": [
        "def create_circuit(x, params):\n",
        "    qubits = cirq.GridQubit.rect(1, len(x))\n",
        "    circuit = cirq.Circuit()\n",
        "    feature_map(qubits, x)\n",
        "    ansatz(qubits, params)\n",
        "    circuit.append(cirq.measure(*qubits, key='m'))\n",
        "    return circuit, qubits\n"
      ],
      "metadata": {
        "id": "yL2WcIhPUEoc"
      },
      "execution_count": 16,
      "outputs": []
    },
    {
      "cell_type": "code",
      "source": [
        "#Kayıp Fonksiyonu\n",
        "#Ölçüm stratejisi: tüm kübitlerin ortalaması\n",
        "simulator = cirq.Simulator()\n",
        "\n",
        "def predict(x, params):\n",
        "    circuit, qubits = create_circuit(x, params)\n",
        "    result = simulator.run(circuit, repetitions=200)\n",
        "    measurements = result.measurements['m']\n",
        "    mean = np.mean(measurements)\n",
        "    return mean\n",
        "\n",
        "def cost(params, X, y):\n",
        "    preds = []\n",
        "    for i in range(len(X)):\n",
        "        pred = predict(X[i], params)\n",
        "        preds.append(pred)\n",
        "    preds = np.array(preds)\n",
        "    # normalize hedef\n",
        "    y_norm = y\n",
        "    loss = np.mean((preds - y_norm)**2)\n",
        "    return loss\n"
      ],
      "metadata": {
        "id": "JqOwy0qXUOpW"
      },
      "execution_count": 17,
      "outputs": []
    },
    {
      "cell_type": "code",
      "source": [
        "n_params = 4 * 2  # 4 kübit x 2 katman\n",
        "init_params = np.random.uniform(0, 2*np.pi, size=n_params)\n",
        "\n",
        "result = minimize(cost, init_params, args=(X_train, y_train), method='COBYLA', options={'maxiter': 50})\n",
        "\n",
        "print(\"Optimize edilmiş parametreler:\", result.x)\n"
      ],
      "metadata": {
        "colab": {
          "base_uri": "https://localhost:8080/"
        },
        "id": "vbZMWqskUOrj",
        "outputId": "103714e9-197e-4173-8f32-f86f53162735"
      },
      "execution_count": 18,
      "outputs": [
        {
          "output_type": "stream",
          "name": "stdout",
          "text": [
            "Optimize edilmiş parametreler: [2.23570744 4.25354824 3.18701188 4.73968316 4.95323827 1.70594543\n",
            " 4.23274112 3.64391747]\n"
          ]
        }
      ]
    },
    {
      "cell_type": "code",
      "source": [
        "def evaluate(X, y, params):\n",
        "    preds = []\n",
        "    for i in range(len(X)):\n",
        "        pred = predict(X[i], params)\n",
        "        preds.append(int(pred > 0.5))\n",
        "    accuracy = np.mean(np.array(preds) == y)\n",
        "    return accuracy\n",
        "\n",
        "acc_train = evaluate(X_train, y_train, result.x)\n",
        "acc_test = evaluate(X_test, y_test, result.x)\n",
        "\n",
        "print(f\"Eğitim doğruluğu: {acc_train:.2f}\")\n",
        "print(f\"Test doğruluğu: {acc_test:.2f}\")\n"
      ],
      "metadata": {
        "colab": {
          "base_uri": "https://localhost:8080/"
        },
        "id": "zK-f2XWNUOuE",
        "outputId": "72953bb8-0fbf-4a50-f554-1ee9642c934d"
      },
      "execution_count": 21,
      "outputs": [
        {
          "output_type": "stream",
          "name": "stdout",
          "text": [
            "Eğitim doğruluğu: 0.37\n",
            "Test doğruluğu: 0.38\n"
          ]
        }
      ]
    },
    {
      "cell_type": "markdown",
      "source": [
        "Cirq üzerinde kuantum devre ile optimize ettiğimiz model klasik yöntemlere göre çok düşük doğruluk veriyor.\n",
        "\n",
        "Bu, Cirq’ün QNN için uygun bir “yüksek seviyeli” kütüphane olmamasından kaynaklanıyor.\n",
        "\n",
        "Ayrıca, klasik optimizasyonla parametrik kuantum devreyi eğitmek çok zor bir problem (vanishing gradients ve gürültü nedeniyle).\n",
        "\n"
      ],
      "metadata": {
        "id": "4iNvt2nnFqIf"
      }
    },
    {
      "cell_type": "markdown",
      "source": [
        "**PennyLane ile QNN Uygulaması**\n"
      ],
      "metadata": {
        "id": "J6NhedygWlM-"
      }
    },
    {
      "cell_type": "code",
      "source": [
        "!pip install pennylane --quiet\n",
        "!pip install scikit-learn --quiet\n"
      ],
      "metadata": {
        "colab": {
          "base_uri": "https://localhost:8080/"
        },
        "id": "ergrRg1qWl_y",
        "outputId": "9b731241-d455-4050-9e3c-2c128548bbc1"
      },
      "execution_count": 22,
      "outputs": [
        {
          "output_type": "stream",
          "name": "stdout",
          "text": [
            "\u001b[2K     \u001b[90m━━━━━━━━━━━━━━━━━━━━━━━━━━━━━━━━━━━━━━━━\u001b[0m \u001b[32m57.1/57.1 kB\u001b[0m \u001b[31m3.1 MB/s\u001b[0m eta \u001b[36m0:00:00\u001b[0m\n",
            "\u001b[2K   \u001b[90m━━━━━━━━━━━━━━━━━━━━━━━━━━━━━━━━━━━━━━━━\u001b[0m \u001b[32m4.8/4.8 MB\u001b[0m \u001b[31m77.3 MB/s\u001b[0m eta \u001b[36m0:00:00\u001b[0m\n",
            "\u001b[2K   \u001b[90m━━━━━━━━━━━━━━━━━━━━━━━━━━━━━━━━━━━━━━━━\u001b[0m \u001b[32m930.8/930.8 kB\u001b[0m \u001b[31m46.9 MB/s\u001b[0m eta \u001b[36m0:00:00\u001b[0m\n",
            "\u001b[2K   \u001b[90m━━━━━━━━━━━━━━━━━━━━━━━━━━━━━━━━━━━━━━━━\u001b[0m \u001b[32m2.6/2.6 MB\u001b[0m \u001b[31m90.6 MB/s\u001b[0m eta \u001b[36m0:00:00\u001b[0m\n",
            "\u001b[2K   \u001b[90m━━━━━━━━━━━━━━━━━━━━━━━━━━━━━━━━━━━━━━━━\u001b[0m \u001b[32m2.1/2.1 MB\u001b[0m \u001b[31m76.1 MB/s\u001b[0m eta \u001b[36m0:00:00\u001b[0m\n",
            "\u001b[2K   \u001b[90m━━━━━━━━━━━━━━━━━━━━━━━━━━━━━━━━━━━━━━━━\u001b[0m \u001b[32m167.9/167.9 kB\u001b[0m \u001b[31m17.0 MB/s\u001b[0m eta \u001b[36m0:00:00\u001b[0m\n",
            "\u001b[2K   \u001b[90m━━━━━━━━━━━━━━━━━━━━━━━━━━━━━━━━━━━━━━━━\u001b[0m \u001b[32m8.6/8.6 MB\u001b[0m \u001b[31m127.6 MB/s\u001b[0m eta \u001b[36m0:00:00\u001b[0m\n",
            "\u001b[?25h"
          ]
        }
      ]
    },
    {
      "cell_type": "code",
      "source": [
        "import pennylane as qml\n",
        "from pennylane import numpy as np\n",
        "from sklearn.datasets import load_breast_cancer\n",
        "from sklearn.model_selection import train_test_split\n",
        "from sklearn.preprocessing import StandardScaler\n",
        "from sklearn.feature_selection import SelectKBest, f_classif\n"
      ],
      "metadata": {
        "id": "zvtAQQcaWmCh"
      },
      "execution_count": 23,
      "outputs": []
    },
    {
      "cell_type": "code",
      "source": [
        "# Veri kümesini yükle\n",
        "data = load_breast_cancer()\n",
        "X = data.data\n",
        "y = data.target\n",
        "\n",
        "# En iyi 4 özelliği seç\n",
        "selector = SelectKBest(f_classif, k=4)\n",
        "X_new = selector.fit_transform(X, y)\n",
        "\n",
        "# Veriyi ölçekle\n",
        "scaler = StandardScaler()\n",
        "X_scaled = scaler.fit_transform(X_new)\n",
        "\n",
        "# Eğitim ve test bölmesi\n",
        "X_train, X_test, y_train, y_test = train_test_split(\n",
        "    X_scaled, y, test_size=0.2, random_state=42\n",
        ")\n",
        "\n",
        "print(f\"X_train shape: {X_train.shape}, y_train shape: {y_train.shape}\")\n"
      ],
      "metadata": {
        "colab": {
          "base_uri": "https://localhost:8080/"
        },
        "id": "PYQPh282WmF1",
        "outputId": "9690b816-25a2-4f3b-c0d5-320c51d44f6f"
      },
      "execution_count": 24,
      "outputs": [
        {
          "output_type": "stream",
          "name": "stdout",
          "text": [
            "X_train shape: (455, 4), y_train shape: (455,)\n"
          ]
        }
      ]
    },
    {
      "cell_type": "code",
      "source": [
        "#PennyLane cihazı\n",
        "#4 kübitlik devre tanımlıyoruz.\n",
        "\n",
        "n_qubits = 4\n",
        "dev = qml.device(\"default.qubit\", wires=n_qubits)\n"
      ],
      "metadata": {
        "id": "OXhW0nDeWmHJ"
      },
      "execution_count": 25,
      "outputs": []
    },
    {
      "cell_type": "code",
      "source": [
        "def qnn_circuit(x, weights):\n",
        "    for i in range(n_qubits):\n",
        "        qml.Hadamard(wires=i)\n",
        "        qml.RX(x[i], wires=i)\n",
        "        qml.RZ(x[i], wires=i)\n",
        "\n",
        "    qml.templates.StronglyEntanglingLayers(weights, wires=range(n_qubits))\n",
        "    return qml.expval(qml.PauliZ(0))\n"
      ],
      "metadata": {
        "id": "0_dGA_bzWmJN"
      },
      "execution_count": 26,
      "outputs": []
    },
    {
      "cell_type": "code",
      "source": [
        "weight_shapes = {\"weights\": (3, n_qubits, 3)}  # 3 katmanlık entangling layer\n",
        "\n",
        "qnode = qml.QNode(qnn_circuit, dev, interface=\"autograd\")\n"
      ],
      "metadata": {
        "id": "13pLuc9HWmL0"
      },
      "execution_count": 27,
      "outputs": []
    },
    {
      "cell_type": "code",
      "source": [
        "#Kayıp Fonksiyonu ve Optimizer\n",
        "def cost(weights, X, y):\n",
        "    preds = [qnode(x, weights) for x in X]\n",
        "    preds = np.array(preds)\n",
        "    # PauliZ expectation -1 ~ 0, +1 ~ 1 --> normalize\n",
        "    preds = (preds + 1) / 2\n",
        "    loss = np.mean((preds - y) ** 2)\n",
        "    return loss\n"
      ],
      "metadata": {
        "id": "ciwD5gIDWmRi"
      },
      "execution_count": 28,
      "outputs": []
    },
    {
      "cell_type": "code",
      "source": [
        "weights = 0.01 * np.random.randn(3, n_qubits, 3, requires_grad=True)\n",
        "\n",
        "opt = qml.AdamOptimizer(stepsize=0.1)\n",
        "epochs = 20\n",
        "\n",
        "for epoch in range(epochs):\n",
        "    weights = opt.step(lambda w: cost(w, X_train, y_train), weights)\n",
        "    train_loss = cost(weights, X_train, y_train)\n",
        "    print(f\"Epoch {epoch+1}: Loss = {train_loss:.4f}\")\n"
      ],
      "metadata": {
        "colab": {
          "base_uri": "https://localhost:8080/"
        },
        "id": "Z95eYLUuWyXS",
        "outputId": "69eed296-d856-430e-eea6-dc74a51d798a"
      },
      "execution_count": 29,
      "outputs": [
        {
          "output_type": "stream",
          "name": "stdout",
          "text": [
            "Epoch 1: Loss = 0.2208\n",
            "Epoch 2: Loss = 0.1881\n",
            "Epoch 3: Loss = 0.1623\n",
            "Epoch 4: Loss = 0.1424\n",
            "Epoch 5: Loss = 0.1217\n",
            "Epoch 6: Loss = 0.1015\n",
            "Epoch 7: Loss = 0.0877\n",
            "Epoch 8: Loss = 0.0822\n",
            "Epoch 9: Loss = 0.0805\n",
            "Epoch 10: Loss = 0.0787\n",
            "Epoch 11: Loss = 0.0755\n",
            "Epoch 12: Loss = 0.0719\n",
            "Epoch 13: Loss = 0.0693\n",
            "Epoch 14: Loss = 0.0675\n",
            "Epoch 15: Loss = 0.0656\n",
            "Epoch 16: Loss = 0.0635\n",
            "Epoch 17: Loss = 0.0611\n",
            "Epoch 18: Loss = 0.0587\n",
            "Epoch 19: Loss = 0.0568\n",
            "Epoch 20: Loss = 0.0558\n"
          ]
        }
      ]
    },
    {
      "cell_type": "code",
      "source": [
        "def evaluate(X, y, weights):\n",
        "    preds = [qnode(x, weights) for x in X]\n",
        "    preds = np.array(preds)\n",
        "    preds = (preds + 1) / 2\n",
        "    preds = (preds > 0.5).astype(int)\n",
        "    accuracy = np.mean(preds == y)\n",
        "    return accuracy\n",
        "\n",
        "acc_train = evaluate(X_train, y_train, weights)\n",
        "acc_test = evaluate(X_test, y_test, weights)\n",
        "\n",
        "print(f\"Eğitim doğruluğu: {acc_train:.2f}\")\n",
        "print(f\"Test doğruluğu: {acc_test:.2f}\")\n"
      ],
      "metadata": {
        "colab": {
          "base_uri": "https://localhost:8080/"
        },
        "id": "hduwmsC7WyZi",
        "outputId": "bcef9558-d23e-4dc6-8fde-95b7b1d995a8"
      },
      "execution_count": 30,
      "outputs": [
        {
          "output_type": "stream",
          "name": "stdout",
          "text": [
            "Eğitim doğruluğu: 0.94\n",
            "Test doğruluğu: 0.94\n"
          ]
        }
      ]
    },
    {
      "cell_type": "markdown",
      "source": [
        "| Yöntem                        | Eğitim Doğruluğu | Test Doğruluğu |\n",
        "| ----------------------------- | ---------------- | -------------- |\n",
        "| **Cirq (elle yazılmış QNN)**  | \\~0.37           | \\~0.38         |\n",
        "| **PennyLane (QNN framework)** | **0.94**         | **0.94**       |\n",
        "\n",
        "### 🔍 Neden PennyLane daha iyi?\n",
        "\n",
        "✅ Yüksek seviyeli `StronglyEntanglingLayers` ansatz kullandı (çok daha güçlü).\n",
        "\n",
        "✅ Optimize edilmiş bir eğitim döngüsü ve `AdamOptimizer`.\n",
        "\n",
        "✅ Daha iyi otomatik türev (autograd) desteği.\n",
        "\n",
        "✅ Daha stabil optimizasyon ve iyi ölçüm stratejisi.\n"
      ],
      "metadata": {
        "id": "KRcPhv16Y8Hv"
      }
    },
    {
      "cell_type": "markdown",
      "source": [
        "**TFQ ile QNN Uygulaması**\n"
      ],
      "metadata": {
        "id": "UcjAYfLbZGLw"
      }
    },
    {
      "cell_type": "code",
      "source": [
        "!pip install tensorflow==2.15 --quiet\n",
        "!pip install tensorflow-quantum --quiet\n",
        "!pip install scikit-learn --quiet\n"
      ],
      "metadata": {
        "colab": {
          "base_uri": "https://localhost:8080/"
        },
        "id": "I3Eg8NdpWyb6",
        "outputId": "bab70c63-1200-47da-9a5a-eaf947ae79f4"
      },
      "execution_count": 1,
      "outputs": [
        {
          "output_type": "stream",
          "name": "stdout",
          "text": [
            "\u001b[31mERROR: pip's dependency resolver does not currently take into account all the packages that are installed. This behaviour is the source of the following dependency conflicts.\n",
            "tf-keras 2.18.0 requires tensorflow<2.19,>=2.18, but you have tensorflow 2.15.0 which is incompatible.\n",
            "grpcio-status 1.71.2 requires protobuf<6.0dev,>=5.26.1, but you have protobuf 4.25.8 which is incompatible.\n",
            "tensorflow-decision-forests 1.11.0 requires tensorflow==2.18.0, but you have tensorflow 2.15.0 which is incompatible.\n",
            "tensorflow-text 2.18.1 requires tensorflow<2.19,>=2.18.0, but you have tensorflow 2.15.0 which is incompatible.\n",
            "ydf 0.12.0 requires protobuf<6.0.0,>=5.29.1, but you have protobuf 4.25.8 which is incompatible.\u001b[0m\u001b[31m\n",
            "\u001b[0m\u001b[31mERROR: pip's dependency resolver does not currently take into account all the packages that are installed. This behaviour is the source of the following dependency conflicts.\n",
            "tensorflow 2.15.0 requires protobuf!=4.21.0,!=4.21.1,!=4.21.2,!=4.21.3,!=4.21.4,!=4.21.5,<5.0.0dev,>=3.20.3, but you have protobuf 5.29.5 which is incompatible.\n",
            "tf-keras 2.18.0 requires tensorflow<2.19,>=2.18, but you have tensorflow 2.15.0 which is incompatible.\n",
            "tensorflow-decision-forests 1.11.0 requires tensorflow==2.18.0, but you have tensorflow 2.15.0 which is incompatible.\n",
            "tensorflow-text 2.18.1 requires tensorflow<2.19,>=2.18.0, but you have tensorflow 2.15.0 which is incompatible.\u001b[0m\u001b[31m\n",
            "\u001b[0m"
          ]
        }
      ]
    },
    {
      "cell_type": "code",
      "source": [
        "pip uninstall -y tensorflow tensorflow-io tensorflow-text tensorflow-decision-forests tf-keras\n",
        "pip install tensorflow==2.15 tensorflow-quantum scikit-learn protobuf==4.25.3 --quiet\n"
      ],
      "metadata": {
        "colab": {
          "base_uri": "https://localhost:8080/",
          "height": 106
        },
        "id": "-26qizndacmU",
        "outputId": "868b1bab-1589-40f7-f44c-f224e90d514f"
      },
      "execution_count": 1,
      "outputs": [
        {
          "output_type": "error",
          "ename": "SyntaxError",
          "evalue": "invalid syntax (ipython-input-1-3272092742.py, line 1)",
          "traceback": [
            "\u001b[0;36m  File \u001b[0;32m\"/tmp/ipython-input-1-3272092742.py\"\u001b[0;36m, line \u001b[0;32m1\u001b[0m\n\u001b[0;31m    pip uninstall -y tensorflow tensorflow-io tensorflow-text tensorflow-decision-forests tf-keras\u001b[0m\n\u001b[0m        ^\u001b[0m\n\u001b[0;31mSyntaxError\u001b[0m\u001b[0;31m:\u001b[0m invalid syntax\n"
          ]
        }
      ]
    },
    {
      "cell_type": "code",
      "source": [
        "pip install tensorflow-quantum scikit-learn --quiet\n"
      ],
      "metadata": {
        "id": "GoyifvrDaeV9"
      },
      "execution_count": 2,
      "outputs": []
    },
    {
      "cell_type": "code",
      "source": [
        "import tensorflow as tf\n",
        "import tensorflow_quantum as tfq\n",
        "import cirq\n",
        "import sympy\n",
        "import numpy as np\n",
        "from sklearn.datasets import load_breast_cancer\n",
        "from sklearn.model_selection import train_test_split\n",
        "from sklearn.preprocessing import StandardScaler\n",
        "from sklearn.feature_selection import SelectKBest, f_classif\n"
      ],
      "metadata": {
        "id": "BTahUz-wZJSv"
      },
      "execution_count": 3,
      "outputs": []
    },
    {
      "cell_type": "code",
      "source": [
        "# Veri kümesini yükle\n",
        "data = load_breast_cancer()\n",
        "X = data.data\n",
        "y = data.target\n",
        "\n",
        "# En iyi 4 özelliği seç\n",
        "selector = SelectKBest(f_classif, k=4)\n",
        "X_new = selector.fit_transform(X, y)\n",
        "\n",
        "# Veriyi ölçekle\n",
        "scaler = StandardScaler()\n",
        "X_scaled = scaler.fit_transform(X_new)\n",
        "\n",
        "# Eğitim ve test bölmesi\n",
        "X_train, X_test, y_train, y_test = train_test_split(\n",
        "    X_scaled, y, test_size=0.2, random_state=42\n",
        ")\n",
        "\n",
        "print(f\"X_train shape: {X_train.shape}, y_train shape: {y_train.shape}\")\n"
      ],
      "metadata": {
        "colab": {
          "base_uri": "https://localhost:8080/"
        },
        "id": "FyhfjgmnZJVO",
        "outputId": "f84031b8-43c5-45df-a7dc-720f577bec15"
      },
      "execution_count": 4,
      "outputs": [
        {
          "output_type": "stream",
          "name": "stdout",
          "text": [
            "X_train shape: (455, 4), y_train shape: (455,)\n"
          ]
        }
      ]
    },
    {
      "cell_type": "code",
      "source": [
        "# Kuantum devresi\n",
        "# Qubit ve semboller\n",
        "\n",
        "n_qubits = 4\n",
        "qubits = [cirq.GridQubit(0, i) for i in range(n_qubits)]\n",
        "\n",
        "# Özellikleri sembollere bağla\n",
        "data_symbols = [sympy.Symbol(f'x{i}') for i in range(n_qubits)]\n",
        "weights = sympy.symbols('theta(0:12)')  # 3 katman * 4 kübit\n"
      ],
      "metadata": {
        "id": "36zqQL_nZJYG"
      },
      "execution_count": 5,
      "outputs": []
    },
    {
      "cell_type": "code",
      "source": [
        "# Devre tanımı\n",
        "def create_qnn_circuit():\n",
        "    circuit = cirq.Circuit()\n",
        "    # Özellikleri encode et\n",
        "    for i, qubit in enumerate(qubits):\n",
        "        circuit.append(cirq.rx(data_symbols[i])(qubit))\n",
        "        circuit.append(cirq.rz(data_symbols[i])(qubit))\n",
        "\n",
        "    # Parametrik katmanlar\n",
        "    k = 0\n",
        "    for _ in range(3):  # 3 katman\n",
        "        for i, qubit in enumerate(qubits):\n",
        "            circuit.append(cirq.ry(weights[k])(qubit))\n",
        "            k += 1\n",
        "        for i in range(n_qubits - 1):\n",
        "            circuit.append(cirq.CNOT(qubits[i], qubits[i+1]))\n",
        "    return circuit\n"
      ],
      "metadata": {
        "id": "cWTUVHWlZJbd"
      },
      "execution_count": 6,
      "outputs": []
    },
    {
      "cell_type": "code",
      "source": [
        "# Devreleri ve veri setini hazırla\n",
        "# Eğitim ve test için devreleri oluştur\n",
        "qnn_circuit = create_qnn_circuit()\n",
        "x_train_circuits = [cirq.Circuit() for _ in range(len(X_train))]\n",
        "x_test_circuits = [cirq.Circuit() for _ in range(len(X_test))]\n",
        "\n",
        "for i, x in enumerate(X_train):\n",
        "    x_train_circuits[i] = cirq.resolve_parameters(qnn_circuit, dict(zip(data_symbols, x)))\n",
        "for i, x in enumerate(X_test):\n",
        "    x_test_circuits[i] = cirq.resolve_parameters(qnn_circuit, dict(zip(data_symbols, x)))\n",
        "\n",
        "# TensorFlow veri kümeleri\n",
        "x_train_tfq = tfq.convert_to_tensor(x_train_circuits)\n",
        "x_test_tfq = tfq.convert_to_tensor(x_test_circuits)\n",
        "\n",
        "y_train_tf = tf.convert_to_tensor(y_train, dtype=tf.float32)\n",
        "y_test_tf = tf.convert_to_tensor(y_test, dtype=tf.float32)\n"
      ],
      "metadata": {
        "id": "USKEFQJjWye0"
      },
      "execution_count": 7,
      "outputs": []
    },
    {
      "cell_type": "code",
      "source": [
        "#TFQ QNN Modeli\n",
        "#Katman tanımı\n",
        "\n",
        "readout = cirq.Z(qubits[0])\n",
        "\n",
        "qnn_layer = tfq.layers.PQC(qnn_circuit, readout)\n"
      ],
      "metadata": {
        "id": "xULm4AvXWyhY"
      },
      "execution_count": 8,
      "outputs": []
    },
    {
      "cell_type": "code",
      "source": [
        "model = tf.keras.Sequential([\n",
        "    qnn_layer,\n",
        "    tf.keras.layers.Activation('sigmoid')\n",
        "])\n",
        "\n",
        "model.compile(optimizer=tf.keras.optimizers.Adam(learning_rate=0.1),\n",
        "              loss='binary_crossentropy',\n",
        "              metrics=['accuracy'])\n"
      ],
      "metadata": {
        "id": "rVcH0KM5ZT3n"
      },
      "execution_count": 9,
      "outputs": []
    },
    {
      "cell_type": "code",
      "source": [
        "history = model.fit(x_train_tfq, y_train_tf,\n",
        "                    batch_size=16,\n",
        "                    epochs=20,\n",
        "                    validation_data=(x_test_tfq, y_test_tf))\n"
      ],
      "metadata": {
        "colab": {
          "base_uri": "https://localhost:8080/"
        },
        "id": "yjFsHcJ_ZT5_",
        "outputId": "dfa643fd-e65a-4737-f6e8-1418d76682f4"
      },
      "execution_count": 10,
      "outputs": [
        {
          "output_type": "stream",
          "name": "stdout",
          "text": [
            "Epoch 1/20\n",
            "29/29 [==============================] - 3s 40ms/step - loss: 0.6023 - accuracy: 0.7538 - val_loss: 0.5358 - val_accuracy: 0.8246\n",
            "Epoch 2/20\n",
            "29/29 [==============================] - 1s 30ms/step - loss: 0.5246 - accuracy: 0.8703 - val_loss: 0.4997 - val_accuracy: 0.9035\n",
            "Epoch 3/20\n",
            "29/29 [==============================] - 1s 31ms/step - loss: 0.5138 - accuracy: 0.8747 - val_loss: 0.4903 - val_accuracy: 0.9123\n",
            "Epoch 4/20\n",
            "29/29 [==============================] - 1s 29ms/step - loss: 0.5124 - accuracy: 0.8835 - val_loss: 0.4934 - val_accuracy: 0.9123\n",
            "Epoch 5/20\n",
            "29/29 [==============================] - 1s 38ms/step - loss: 0.5065 - accuracy: 0.8879 - val_loss: 0.5010 - val_accuracy: 0.8596\n",
            "Epoch 6/20\n",
            "29/29 [==============================] - 1s 40ms/step - loss: 0.5091 - accuracy: 0.8813 - val_loss: 0.4969 - val_accuracy: 0.8947\n",
            "Epoch 7/20\n",
            "29/29 [==============================] - 1s 32ms/step - loss: 0.5093 - accuracy: 0.8835 - val_loss: 0.4959 - val_accuracy: 0.8860\n",
            "Epoch 8/20\n",
            "29/29 [==============================] - 1s 33ms/step - loss: 0.5064 - accuracy: 0.8791 - val_loss: 0.4887 - val_accuracy: 0.8860\n",
            "Epoch 9/20\n",
            "29/29 [==============================] - 1s 30ms/step - loss: 0.5020 - accuracy: 0.8923 - val_loss: 0.4880 - val_accuracy: 0.8947\n",
            "Epoch 10/20\n",
            "29/29 [==============================] - 1s 31ms/step - loss: 0.5033 - accuracy: 0.8989 - val_loss: 0.4896 - val_accuracy: 0.9211\n",
            "Epoch 11/20\n",
            "29/29 [==============================] - 1s 30ms/step - loss: 0.5032 - accuracy: 0.9055 - val_loss: 0.4986 - val_accuracy: 0.8860\n",
            "Epoch 12/20\n",
            "29/29 [==============================] - 1s 28ms/step - loss: 0.5059 - accuracy: 0.8879 - val_loss: 0.4999 - val_accuracy: 0.8596\n",
            "Epoch 13/20\n",
            "29/29 [==============================] - 1s 30ms/step - loss: 0.5046 - accuracy: 0.8835 - val_loss: 0.4927 - val_accuracy: 0.8947\n",
            "Epoch 14/20\n",
            "29/29 [==============================] - 1s 31ms/step - loss: 0.5018 - accuracy: 0.8791 - val_loss: 0.4863 - val_accuracy: 0.9211\n",
            "Epoch 15/20\n",
            "29/29 [==============================] - 1s 31ms/step - loss: 0.5019 - accuracy: 0.8945 - val_loss: 0.4884 - val_accuracy: 0.9035\n",
            "Epoch 16/20\n",
            "29/29 [==============================] - 1s 38ms/step - loss: 0.5036 - accuracy: 0.8901 - val_loss: 0.4861 - val_accuracy: 0.9211\n",
            "Epoch 17/20\n",
            "29/29 [==============================] - 1s 40ms/step - loss: 0.5015 - accuracy: 0.8835 - val_loss: 0.4912 - val_accuracy: 0.9035\n",
            "Epoch 18/20\n",
            "29/29 [==============================] - 1s 48ms/step - loss: 0.5020 - accuracy: 0.8901 - val_loss: 0.4937 - val_accuracy: 0.8860\n",
            "Epoch 19/20\n",
            "29/29 [==============================] - 1s 30ms/step - loss: 0.5020 - accuracy: 0.8901 - val_loss: 0.4889 - val_accuracy: 0.9211\n",
            "Epoch 20/20\n",
            "29/29 [==============================] - 1s 32ms/step - loss: 0.5028 - accuracy: 0.8945 - val_loss: 0.4997 - val_accuracy: 0.8596\n"
          ]
        }
      ]
    },
    {
      "cell_type": "code",
      "source": [
        "train_acc = history.history['accuracy'][-1]\n",
        "test_acc = history.history['val_accuracy'][-1]\n",
        "\n",
        "print(f\"Eğitim doğruluğu: {train_acc:.2f}\")\n",
        "print(f\"Test doğruluğu: {test_acc:.2f}\")\n"
      ],
      "metadata": {
        "colab": {
          "base_uri": "https://localhost:8080/"
        },
        "id": "O5N2GTf-ZT8I",
        "outputId": "64c54997-5db0-4870-bd5c-50db58337a5b"
      },
      "execution_count": 11,
      "outputs": [
        {
          "output_type": "stream",
          "name": "stdout",
          "text": [
            "Eğitim doğruluğu: 0.89\n",
            "Test doğruluğu: 0.86\n"
          ]
        }
      ]
    },
    {
      "cell_type": "markdown",
      "source": [
        "| Yöntem              | Eğitim Doğruluğu | Test Doğruluğu |\n",
        "| ------------------- | ---------------- | -------------- |\n",
        "| **Cirq (elle QNN)** | \\~0.37           | \\~0.38         |\n",
        "| **PennyLane (QNN)** | **0.94**         | **0.94**       |\n",
        "| **TFQ (QNN)**       | **0.89**         | **0.86**       |\n",
        "\n",
        "\n",
        "✅ Cirq (elle):\n",
        "\n",
        "Elle yazılmış devre ve klasik optimizer kullanmak yetersiz kaldı.\n",
        "\n",
        "QNN framework’ü olmadığı için başarım kötüydü.\n",
        "\n",
        "✅ PennyLane:\n",
        "\n",
        "QNN için optimize edilmiş katmanlar (StronglyEntanglingLayers), iyi optimizer (Adam), otomatik türev desteği sayesinde çok yüksek doğruluk verdi.\n",
        "\n",
        "Genel olarak en iyi sonucu verdi.\n",
        "\n",
        "✅ TFQ:\n",
        "\n",
        "Klasik TensorFlow ile çok iyi entegre.\n",
        "\n",
        "Sonuçlar iyi, ama PennyLane kadar yüksek değil.\n",
        "\n",
        "Daha fazla epoch veya hiperparametre ayarı ile biraz daha iyileştirilebilir.*italik metin*\n"
      ],
      "metadata": {
        "id": "7HfAHdm8G77-"
      }
    },
    {
      "cell_type": "markdown",
      "source": [
        "**Qiskit ile QNN Uygulaması**\n"
      ],
      "metadata": {
        "id": "i0Cah1F2e3u4"
      }
    },
    {
      "cell_type": "code",
      "source": [
        "pip install qiskit --quiet\n",
        "pip install qiskit-machine-learning --quiet\n",
        "pip install qiskit-algorithms --quiet\n",
        "pip install scikit-learn --quiet\n"
      ],
      "metadata": {
        "id": "XvRbjSltfD0B"
      },
      "execution_count": null,
      "outputs": []
    },
    {
      "cell_type": "code",
      "source": [
        "pip install pylatexenc --quiet\n"
      ],
      "metadata": {
        "id": "eUA4is3awTzt"
      },
      "execution_count": 49,
      "outputs": []
    },
    {
      "cell_type": "code",
      "source": [
        "from sklearn.datasets import load_breast_cancer\n",
        "from sklearn.model_selection import train_test_split\n",
        "from sklearn.preprocessing import StandardScaler\n",
        "from sklearn.feature_selection import SelectKBest, f_classif\n",
        "import numpy as np\n",
        "\n",
        "from qiskit import QuantumCircuit\n",
        "from qiskit.circuit import ParameterVector\n",
        "from qiskit.primitives import Estimator\n",
        "from qiskit_machine_learning.neural_networks import EstimatorQNN\n",
        "from qiskit_machine_learning.algorithms.classifiers import NeuralNetworkClassifier\n",
        "from qiskit_algorithms.optimizers import COBYLA\n"
      ],
      "metadata": {
        "id": "M63QAu15fD2u"
      },
      "execution_count": 50,
      "outputs": []
    },
    {
      "cell_type": "code",
      "source": [
        "# Veri kümesini yükle\n",
        "data = load_breast_cancer()\n",
        "X = data.data\n",
        "y = data.target\n",
        "\n",
        "# En iyi 4 özelliği seç\n",
        "selector = SelectKBest(f_classif, k=4)\n",
        "X_new = selector.fit_transform(X, y)\n",
        "\n",
        "# Ölçekle\n",
        "scaler = StandardScaler()\n",
        "X_scaled = scaler.fit_transform(X_new)\n",
        "\n",
        "# Eğitim / test bölmesi\n",
        "X_train, X_test, y_train, y_test = train_test_split(\n",
        "    X_scaled, y, test_size=0.2, random_state=42\n",
        ")\n",
        "\n",
        "print(f\"X_train shape: {X_train.shape}, y_train shape: {y_train.shape}\")\n"
      ],
      "metadata": {
        "colab": {
          "base_uri": "https://localhost:8080/"
        },
        "id": "Ik7HYBUawCDm",
        "outputId": "edc3c082-f0a7-4ef3-82c7-9fd4fcaa76b7"
      },
      "execution_count": 51,
      "outputs": [
        {
          "output_type": "stream",
          "name": "stdout",
          "text": [
            "X_train shape: (455, 4), y_train shape: (455,)\n"
          ]
        }
      ]
    },
    {
      "cell_type": "code",
      "source": [
        "# Kuantum devresi\n",
        "# Parametreler\n",
        "\n",
        "num_qubits = 4\n",
        "sym_x = ParameterVector('x', num_qubits)\n",
        "sym_w = ParameterVector('w', num_qubits)\n"
      ],
      "metadata": {
        "id": "8qspdHpAwCF1"
      },
      "execution_count": 52,
      "outputs": []
    },
    {
      "cell_type": "code",
      "source": [
        "#Devre\n",
        "\n",
        "qc = QuantumCircuit(num_qubits)\n",
        "\n",
        "# Feature map\n",
        "for i in range(num_qubits):\n",
        "    qc.h(i)\n",
        "    qc.ry(sym_x[i], i)\n",
        "    qc.rz(sym_x[i], i)\n",
        "\n",
        "# Ansatz\n",
        "for i in range(num_qubits):\n",
        "    qc.ry(sym_w[i], i)\n",
        "\n",
        "# Ölçüm ekleme! (Burada yok)\n",
        "# qc.draw('mpl')  # opsiyonel\n"
      ],
      "metadata": {
        "id": "i3wvAQAewCH9"
      },
      "execution_count": 54,
      "outputs": []
    },
    {
      "cell_type": "code",
      "source": [
        "#QNN\n",
        "estimator = Estimator()\n",
        "\n",
        "qnn = EstimatorQNN(\n",
        "    circuit=qc,\n",
        "    input_params=sym_x,\n",
        "    weight_params=sym_w\n",
        ")\n"
      ],
      "metadata": {
        "colab": {
          "base_uri": "https://localhost:8080/"
        },
        "id": "Nlofar6mwCKG",
        "outputId": "bbfcf565-7b69-4d41-8c95-6d4d3b088dde"
      },
      "execution_count": 70,
      "outputs": [
        {
          "output_type": "stream",
          "name": "stderr",
          "text": [
            "/tmp/ipython-input-70-3458938400.py:3: DeprecationWarning: V1 Primitives are deprecated as of qiskit-machine-learning 0.8.0 and will be removed no sooner than 4 months after the release date. Use V2 primitives for continued compatibility and support.\n",
            "  qnn = EstimatorQNN(\n"
          ]
        }
      ]
    },
    {
      "cell_type": "code",
      "source": [
        "#Sınıflayıcı\n",
        "#Optimizer\n",
        "optimizer = COBYLA(maxiter=50)\n"
      ],
      "metadata": {
        "id": "iIBO5F5LwCMZ"
      },
      "execution_count": null,
      "outputs": []
    },
    {
      "cell_type": "code",
      "source": [
        "#Model\n",
        "classifier = NeuralNetworkClassifier(\n",
        "    neural_network=qnn,\n",
        "    optimizer=optimizer,\n",
        "    initial_point=np.random.rand(num_qubits)\n",
        ")\n"
      ],
      "metadata": {
        "id": "3hHbkj9hwCOY"
      },
      "execution_count": 57,
      "outputs": []
    },
    {
      "cell_type": "code",
      "source": [
        "classifier.fit(X_train, y_train)\n"
      ],
      "metadata": {
        "colab": {
          "base_uri": "https://localhost:8080/"
        },
        "id": "lWhxGsRGwJQ9",
        "outputId": "206bf7c9-4c94-4d13-e8a6-b06c14c2b3f1"
      },
      "execution_count": 58,
      "outputs": [
        {
          "output_type": "execute_result",
          "data": {
            "text/plain": [
              "<qiskit_machine_learning.algorithms.classifiers.neural_network_classifier.NeuralNetworkClassifier at 0x7b46e7d82310>"
            ]
          },
          "metadata": {},
          "execution_count": 58
        }
      ]
    },
    {
      "cell_type": "code",
      "source": [
        "train_acc = classifier.score(X_train, y_train)\n",
        "test_acc = classifier.score(X_test, y_test)\n",
        "\n",
        "print(f\"Eğitim doğruluğu: {train_acc:.2f}\")\n",
        "print(f\"Test doğruluğu: {test_acc:.2f}\")\n"
      ],
      "metadata": {
        "colab": {
          "base_uri": "https://localhost:8080/"
        },
        "id": "osd53QURwL1e",
        "outputId": "15076b80-1af9-4b29-c0f0-c920537c43b9"
      },
      "execution_count": 59,
      "outputs": [
        {
          "output_type": "stream",
          "name": "stdout",
          "text": [
            "Eğitim doğruluğu: 0.62\n",
            "Test doğruluğu: 0.61\n"
          ]
        }
      ]
    },
    {
      "cell_type": "markdown",
      "source": [
        "Neden düşük kaldı?\n",
        "\n",
        "Qiskit’te QNN için kullandığımız yapı:\n",
        "\n",
        "Çok basit bir devre (sadece 4 qubit, 1 katman Ry ansatz)\n",
        "\n",
        "Özellik haritası (feature map) çok zayıf (sadece Ry ve Rz)\n",
        "\n",
        "COBYLA optimizer fazla iyi ölçeklenmez, lokal minimumda kalabilir\n",
        "\n",
        "Epoch ve maxiter küçük (biz 50 kullandık; 300–500 daha iyi sonuç verir)\n",
        "\n",
        "🔷 Ne yapılabilir?\n",
        "\n",
        "✅ Daha güçlü bir ansatz eklenebilir:\n",
        "\n",
        "Entanglement ekle (örneğin: CNOT zinciri)\n",
        "\n",
        "Daha fazla katman (depth)\n",
        "\n",
        "Daha fazla maxiter\n",
        "\n",
        "✅ Daha iyi optimizer:\n",
        "\n",
        "SPSA (QNN’lerde genelde daha iyi sonuç verir)\n",
        "\n",
        "✅ Daha iyi feature map:\n",
        "\n",
        "ZZFeatureMap (Qiskit’in klasik örneklerinde kullanılır)"
      ],
      "metadata": {
        "id": "Wpz60mepKH56"
      }
    },
    {
      "cell_type": "code",
      "source": [],
      "metadata": {
        "id": "H7wN4m6jxOW0"
      },
      "execution_count": null,
      "outputs": []
    },
    {
      "cell_type": "code",
      "source": [],
      "metadata": {
        "id": "elmFfNUdxOZH"
      },
      "execution_count": null,
      "outputs": []
    },
    {
      "cell_type": "markdown",
      "source": [
        "**Qiskit QNN (Geliştirilmiş)**"
      ],
      "metadata": {
        "id": "dsgFWEt-xPDk"
      }
    },
    {
      "cell_type": "code",
      "source": [
        "from sklearn.datasets import load_breast_cancer\n",
        "from sklearn.model_selection import train_test_split\n",
        "from sklearn.preprocessing import StandardScaler\n",
        "from sklearn.feature_selection import SelectKBest, f_classif\n",
        "import numpy as np\n",
        "\n",
        "from qiskit import QuantumCircuit\n",
        "from qiskit.circuit import ParameterVector\n",
        "from qiskit.primitives import Estimator\n",
        "from qiskit_machine_learning.neural_networks import EstimatorQNN\n",
        "from qiskit_machine_learning.algorithms.classifiers import NeuralNetworkClassifier\n",
        "from qiskit_algorithms.optimizers import SPSA\n"
      ],
      "metadata": {
        "id": "gY6hmSGUxObV"
      },
      "execution_count": 60,
      "outputs": []
    },
    {
      "cell_type": "code",
      "source": [
        "data = load_breast_cancer()\n",
        "X = data.data\n",
        "y = data.target\n",
        "\n",
        "selector = SelectKBest(f_classif, k=4)\n",
        "X_new = selector.fit_transform(X, y)\n",
        "\n",
        "scaler = StandardScaler()\n",
        "X_scaled = scaler.fit_transform(X_new)\n",
        "\n",
        "X_train, X_test, y_train, y_test = train_test_split(\n",
        "    X_scaled, y, test_size=0.2, random_state=42\n",
        ")\n",
        "\n",
        "print(f\"X_train shape: {X_train.shape}, y_train shape: {y_train.shape}\")\n"
      ],
      "metadata": {
        "colab": {
          "base_uri": "https://localhost:8080/"
        },
        "id": "CRBopAr4xOds",
        "outputId": "ca8607e5-b715-4028-dd6f-d17f7bc035aa"
      },
      "execution_count": 61,
      "outputs": [
        {
          "output_type": "stream",
          "name": "stdout",
          "text": [
            "X_train shape: (455, 4), y_train shape: (455,)\n"
          ]
        }
      ]
    },
    {
      "cell_type": "code",
      "source": [
        "num_qubits = 4\n",
        "sym_x = ParameterVector('x', num_qubits)\n",
        "sym_w = ParameterVector('w', num_qubits * 3)  # daha fazla parametre\n"
      ],
      "metadata": {
        "id": "Xd17xSSzxOgE"
      },
      "execution_count": 62,
      "outputs": []
    },
    {
      "cell_type": "code",
      "source": [
        "# Geliştirilmiş devre\n",
        "# devremize:\n",
        "# Özellik haritası: Rx-Rz + daha fazla derinlik\n",
        "# Ansatz: Ry + CNOT zinciri + 3 katman ekliyoruz\n",
        "\n",
        "\n",
        "qc = QuantumCircuit(num_qubits)\n",
        "\n",
        "# Feature map\n",
        "for i in range(num_qubits):\n",
        "    qc.rx(sym_x[i], i)\n",
        "    qc.rz(sym_x[i], i)\n",
        "\n",
        "# 3 katman ansatz\n",
        "k = 0\n",
        "for _ in range(3):  # derinlik\n",
        "    for i in range(num_qubits):\n",
        "        qc.ry(sym_w[k], i)\n",
        "        k += 1\n",
        "    for i in range(num_qubits - 1):\n",
        "        qc.cx(i, i+1)\n",
        "\n",
        "# qc.draw('mpl')  # opsiyonel\n"
      ],
      "metadata": {
        "id": "rBFSsWuHxba0"
      },
      "execution_count": 64,
      "outputs": []
    },
    {
      "cell_type": "code",
      "source": [
        "estimator = Estimator()\n",
        "\n",
        "qnn = EstimatorQNN(\n",
        "    circuit=qc,\n",
        "    input_params=sym_x,\n",
        "    weight_params=sym_w\n",
        ")\n"
      ],
      "metadata": {
        "colab": {
          "base_uri": "https://localhost:8080/"
        },
        "id": "qxh_SGncxbdL",
        "outputId": "2de267a1-b4ae-43a5-fab8-e8132cb874b9"
      },
      "execution_count": 65,
      "outputs": [
        {
          "output_type": "stream",
          "name": "stderr",
          "text": [
            "/tmp/ipython-input-65-4087120848.py:1: DeprecationWarning: The class ``qiskit.primitives.estimator.Estimator`` is deprecated as of qiskit 1.2. It will be removed no earlier than 3 months after the release date. All implementations of the `BaseEstimatorV1` interface have been deprecated in favor of their V2 counterparts. The V2 alternative for the `Estimator` class is `StatevectorEstimator`.\n",
            "  estimator = Estimator()\n",
            "/tmp/ipython-input-65-4087120848.py:3: DeprecationWarning: V1 Primitives are deprecated as of qiskit-machine-learning 0.8.0 and will be removed no sooner than 4 months after the release date. Use V2 primitives for continued compatibility and support.\n",
            "  qnn = EstimatorQNN(\n"
          ]
        }
      ]
    },
    {
      "cell_type": "code",
      "source": [
        "# Daha iyi optimizer\n",
        "# SPSA kuantum devrelerde en çok önerilen optimizer’dır:\n",
        "optimizer = SPSA(maxiter=300)\n"
      ],
      "metadata": {
        "id": "zlekU2C_xbfT"
      },
      "execution_count": 66,
      "outputs": []
    },
    {
      "cell_type": "code",
      "source": [
        "classifier = NeuralNetworkClassifier(\n",
        "    neural_network=qnn,\n",
        "    optimizer=optimizer,\n",
        "    initial_point=np.random.rand(len(sym_w))\n",
        ")\n"
      ],
      "metadata": {
        "id": "Zhn4CgzLxbht"
      },
      "execution_count": 67,
      "outputs": []
    },
    {
      "cell_type": "code",
      "source": [
        "classifier.fit(X_train, y_train)\n"
      ],
      "metadata": {
        "colab": {
          "base_uri": "https://localhost:8080/"
        },
        "id": "M4Dw8Yyqxbj8",
        "outputId": "a8884d48-d599-4466-e3c7-de0c190ead9e"
      },
      "execution_count": 68,
      "outputs": [
        {
          "output_type": "execute_result",
          "data": {
            "text/plain": [
              "<qiskit_machine_learning.algorithms.classifiers.neural_network_classifier.NeuralNetworkClassifier at 0x7b46ffaefc50>"
            ]
          },
          "metadata": {},
          "execution_count": 68
        }
      ]
    },
    {
      "cell_type": "code",
      "source": [
        "train_acc = classifier.score(X_train, y_train)\n",
        "test_acc = classifier.score(X_test, y_test)\n",
        "\n",
        "print(f\"Eğitim doğruluğu: {train_acc:.2f}\")\n",
        "print(f\"Test doğruluğu: {test_acc:.2f}\")\n"
      ],
      "metadata": {
        "colab": {
          "base_uri": "https://localhost:8080/"
        },
        "id": "XmMjyHccxnCD",
        "outputId": "88ab1ade-f6b7-41d6-e083-d2fd5d79a461"
      },
      "execution_count": 69,
      "outputs": [
        {
          "output_type": "stream",
          "name": "stdout",
          "text": [
            "Eğitim doğruluğu: 0.63\n",
            "Test doğruluğu: 0.62\n"
          ]
        }
      ]
    },
    {
      "cell_type": "markdown",
      "source": [
        "| Yöntem              | Eğitim Doğruluğu | Test Doğruluğu |\n",
        "| ------------------- | ---------------- | -------------- |\n",
        "| **Cirq (elle QNN)** | \\~0.37           | \\~0.38         |\n",
        "| **PennyLane (QNN)** | **0.94**         | **0.94**       |\n",
        "| **TFQ (QNN)**       | **0.89**         | **0.86**       |\n",
        "| **Qiskit (QNN)**    |**0.63**         | **0.62**       |"
      ],
      "metadata": {
        "id": "CxaP54hGKqcp"
      }
    },
    {
      "cell_type": "markdown",
      "source": [],
      "metadata": {
        "id": "mH5KebbnKnI5"
      }
    }
  ]
}